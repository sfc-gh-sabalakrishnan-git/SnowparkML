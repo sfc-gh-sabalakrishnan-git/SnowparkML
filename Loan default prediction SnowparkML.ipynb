{
 "cells": [
  {
   "cell_type": "code",
   "execution_count": 122,
   "id": "eda1f25f-7d79-4f95-8872-01c530d3317e",
   "metadata": {},
   "outputs": [],
   "source": [
    "# Snowpark for Python\n",
    "from snowflake.snowpark import Session\n",
    "from snowflake.snowpark.functions import col, udf\n",
    "import snowflake.snowpark.functions as F\n",
    "from snowflake.snowpark.types import StructType, StructField, DoubleType, StringType, DecimalType\n",
    "from snowflake.snowpark.version import VERSION\n",
    "\n",
    "# Snowpark Machine Learning\n",
    "from snowflake.ml.modeling.model_selection import GridSearchCV\n",
    "from snowflake.ml.registry import registry\n",
    "\n",
    "# Data Science Libraries\n",
    "import numpy as np\n",
    "import pandas as pd\n",
    "import matplotlib.pyplot as plt\n",
    "import seaborn as sns\n",
    "\n",
    "# Miscellaneous\n",
    "import json\n",
    "import warnings\n",
    "warnings.simplefilter('ignore')  # Suppress warnings\n"
   ]
  },
  {
   "cell_type": "markdown",
   "id": "4e20e9b0-9110-4f0b-9617-106e4ff4f625",
   "metadata": {},
   "source": [
    "# Establish a connection to a Snowflake"
   ]
  },
  {
   "cell_type": "code",
   "execution_count": 123,
   "id": "4c47118a-c363-4669-96f4-babc72dffaa9",
   "metadata": {},
   "outputs": [
    {
     "name": "stdout",
     "output_type": "stream",
     "text": [
      "\n",
      "Connection Established with the following parameters:\n",
      "User                        : PETERSIMMONS1991\n",
      "Role                        : \"ACCOUNTADMIN\"\n",
      "Database                    : \"ML_HOL_DB\"\n",
      "Schema                      : \"ML_HOL_SCHEMA\"\n",
      "Warehouse                   : \"ML_HOL_WH\"\n",
      "Snowflake version           : 8.6.2\n",
      "Snowpark for Python version : 1.11.1\n"
     ]
    }
   ],
   "source": [
    "connection_parameters = json.load(open('connection.json'))\n",
    "session = Session.builder.configs(connection_parameters).create()\n",
    "session.sql_simplifier_enabled = True\n",
    "\n",
    "snowflake_environment = session.sql('SELECT current_user(), current_version()').collect()\n",
    "snowpark_version = VERSION\n",
    "\n",
    "# Current Environment Details\n",
    "print('\\nConnection Established with the following parameters:')\n",
    "print('User                        : {}'.format(snowflake_environment[0][0]))\n",
    "print('Role                        : {}'.format(session.get_current_role()))\n",
    "print('Database                    : {}'.format(session.get_current_database()))\n",
    "print('Schema                      : {}'.format(session.get_current_schema()))\n",
    "print('Warehouse                   : {}'.format(session.get_current_warehouse()))\n",
    "print('Snowflake version           : {}'.format(snowflake_environment[0][1]))\n",
    "print('Snowpark for Python version : {}.{}.{}'.format(snowpark_version[0],snowpark_version[1],snowpark_version[2]))"
   ]
  },
  {
   "cell_type": "markdown",
   "id": "8abb4f91-190e-484b-aed8-15a6536e7d79",
   "metadata": {},
   "source": [
    "# Data Preprocessing"
   ]
  },
  {
   "cell_type": "code",
   "execution_count": 124,
   "id": "9440f548-d26f-42eb-8603-ebe64a8d4cce",
   "metadata": {},
   "outputs": [
    {
     "name": "stdout",
     "output_type": "stream",
     "text": [
      "---------------------------------------------------------------------------------------------------------------\n",
      "|\"name\"                           |\"size\"  |\"md5\"                             |\"last_modified\"                |\n",
      "---------------------------------------------------------------------------------------------------------------\n",
      "|loan_data/loandata_modified.csv  |764064  |850a631ef1eef027ee9a3211da3ece4c  |Thu, 15 Feb 2024 03:39:11 GMT  |\n",
      "---------------------------------------------------------------------------------------------------------------\n",
      "\n"
     ]
    }
   ], 
   "source": [
    "# Show the file before loading\n",
    "session.sql(\"LS @Loan_Data;\").show()"
   ]
  },
  {
   "cell_type": "code",
   "execution_count": 125,
   "id": "b2c14fb2-7b62-4510-975b-8f39b71de637",
   "metadata": {},
   "outputs": [],
   "source": [
    "# Create a Snowpark DataFrame that is configured to load data from the CSV file\n",
    "# We can now infer schema from CSV files.\n",
    "loandata_df = session.read.options({\"field_delimiter\": \",\",\n",
    "                                    \"field_optionally_enclosed_by\": '\"',\n",
    "                                    \"infer_schema\": True,\n",
    "                                    \"parse_header\": True}).csv(\"@Loan_Data\")\n"
   ]
  },
  {
   "cell_type": "code",
   "execution_count": 126,
   "id": "252e02da-07d5-4669-8f7f-354baba1107f",
   "metadata": {},
   "outputs": [
    {
     "name": "stdout",
     "output_type": "stream",
     "text": [
      "------------------------------------------------------------------------------------------------------------------------------------------------------------------------------------------------------------------------------\n",
      "|\"credit_policy\"  |\"purpose\"           |\"int_rate\"  |\"installment\"  |\"log_annual_inc\"  |\"dti\"  |\"fico\"  |\"days_with_cr_line\"  |\"revol_bal\"  |\"revol_util\"  |\"inq_last_6mths\"  |\"delinq_2yrs\"  |\"pub_rec\"  |\"not_fully_paid\"  |\n",
      "------------------------------------------------------------------------------------------------------------------------------------------------------------------------------------------------------------------------------\n",
      "|1                |debt_consolidation  |0.1189      |829.10         |11.350406540      |19.48  |737     |5639.9583330         |28854        |52.10         |0                 |0              |0          |0                 |\n",
      "|1                |credit_card         |0.1071      |228.22         |11.082142550      |14.29  |707     |2760.0000000         |33623        |76.70         |0                 |0              |0          |0                 |\n",
      "|1                |debt_consolidation  |0.1357      |366.86         |10.373491180      |11.63  |682     |4710.0000000         |3511         |25.60         |1                 |0              |0          |0                 |\n",
      "|1                |debt_consolidation  |0.1008      |162.34         |11.350406540      |8.10   |712     |2699.9583330         |33667        |73.20         |1                 |0              |0          |0                 |\n",
      "|1                |credit_card         |0.1426      |102.92         |11.299732240      |14.97  |667     |4066.0000000         |4740         |39.50         |0                 |1              |0          |0                 |\n",
      "|1                |credit_card         |0.0788      |125.13         |11.904967550      |16.98  |727     |6120.0416670         |50807        |51.00         |0                 |0              |0          |0                 |\n",
      "|1                |debt_consolidation  |0.1496      |194.02         |10.714417770      |4.00   |667     |3180.0416670         |3839         |76.80         |0                 |0              |1          |1                 |\n",
      "|1                |all_other           |0.1114      |131.22         |11.002099840      |11.08  |722     |5116.0000000         |24220        |68.60         |0                 |0              |0          |1                 |\n",
      "|1                |home_improvement    |0.1134      |87.19          |11.407564950      |17.25  |682     |3989.0000000         |69909        |51.10         |1                 |0              |0          |0                 |\n",
      "|1                |debt_consolidation  |0.1221      |84.12          |10.203592140      |10.00  |707     |2730.0416670         |5630         |23.00         |1                 |0              |0          |0                 |\n",
      "------------------------------------------------------------------------------------------------------------------------------------------------------------------------------------------------------------------------------\n",
      "\n"
     ]
    }
   ],
   "source": [
    "loandata_df.show()"
   ]
  },
  {
   "cell_type": "code",
   "execution_count": 127,
   "id": "fe9785d7-7bfc-469e-87c4-60c933ce58a8",
   "metadata": {},
   "outputs": [
    {
     "name": "stdout",
     "output_type": "stream",
     "text": [
      "---------------------------------------------------------------------------------------------------------------------------------------------------------------------------------------------------------------------------------------------------------------------------------------------------------------\n",
      "|\"SUMMARY\"  |\"credit_policy\"      |\"purpose\"       |\"int_rate\"            |\"installment\"       |\"log_annual_inc\"    |\"dti\"              |\"fico\"             |\"days_with_cr_line\"  |\"revol_bal\"        |\"revol_util\"       |\"inq_last_6mths\"    |\"delinq_2yrs\"      |\"pub_rec\"           |\"not_fully_paid\"     |\n",
      "---------------------------------------------------------------------------------------------------------------------------------------------------------------------------------------------------------------------------------------------------------------------------------------------------------------\n",
      "|count      |9578.0               |9578            |9578.0                |9578.0              |9578.0              |9578.0             |9578.0             |9578.0               |9578.0             |9578.0             |9578.0              |9578.0             |9578.0              |9578.0               |\n",
      "|mean       |0.80497              |NULL            |0.1226400606          |319.08941324        |10.9321171378       |12.60667885        |710.846314         |4560.767196529213    |16913.963876       |46.79923575        |1.577469            |0.163708           |0.062122            |0.160054             |\n",
      "|stddev     |0.39624487378387624  |NULL            |0.026846987205271285  |207.07130149985827  |0.6148127513544266  |6.883969540541271  |37.97053722295748  |2496.9303768113487   |33756.18955725052  |29.01441696564141  |2.2002452136068835  |0.546215159071954  |0.2621259239373321  |0.36667560595163673  |\n",
      "|min        |0.0                  |all_other       |0.06                  |15.67               |7.547501683         |0.0                |612.0              |178.9583333          |0.0                |0.0                |0.0                 |0.0                |0.0                 |0.0                  |\n",
      "|max        |1.0                  |small_business  |0.2164                |940.14              |14.52835448         |29.96              |827.0              |17639.95833          |1207359.0          |119.0              |33.0                |13.0               |5.0                 |1.0                  |\n",
      "---------------------------------------------------------------------------------------------------------------------------------------------------------------------------------------------------------------------------------------------------------------------------------------------------------------\n",
      "\n"
     ]
    }
   ],
   "source": [
    "# Look at descriptive stats on the DataFrame\n",
    "loandata_df.describe().show()"
   ]
  },
  {
   "cell_type": "code",
   "execution_count": 128,
   "id": "7e1b1765-5d48-457d-88d5-7099a85e386c",
   "metadata": {},
   "outputs": [
    {
     "data": {
      "text/plain": [
       "['\"credit_policy\"',\n",
       " '\"purpose\"',\n",
       " '\"int_rate\"',\n",
       " '\"installment\"',\n",
       " '\"log_annual_inc\"',\n",
       " '\"dti\"',\n",
       " '\"fico\"',\n",
       " '\"days_with_cr_line\"',\n",
       " '\"revol_bal\"',\n",
       " '\"revol_util\"',\n",
       " '\"inq_last_6mths\"',\n",
       " '\"delinq_2yrs\"',\n",
       " '\"pub_rec\"',\n",
       " '\"not_fully_paid\"']"
      ]
     },
     "execution_count": 128,
     "metadata": {},
     "output_type": "execute_result"
    }
   ],
   "source": [
    "loandata_df.columns"
   ]
  },
  {
   "cell_type": "code",
   "execution_count": 129,
   "id": "d83c36c7-39c7-497b-9650-b7bf451a4c5f",
   "metadata": {},
   "outputs": [
    {
     "name": "stdout",
     "output_type": "stream",
     "text": [
      "------------------------------------------------------------------------------------------------------------------------------------------------------------------------------------------------------------------------------\n",
      "|\"CREDIT_POLICY\"  |\"PURPOSE\"           |\"INT_RATE\"  |\"INSTALLMENT\"  |\"LOG_ANNUAL_INC\"  |\"DTI\"  |\"FICO\"  |\"DAYS_WITH_CR_LINE\"  |\"REVOL_BAL\"  |\"REVOL_UTIL\"  |\"INQ_LAST_6MTHS\"  |\"DELINQ_2YRS\"  |\"PUB_REC\"  |\"NOT_FULLY_PAID\"  |\n",
      "------------------------------------------------------------------------------------------------------------------------------------------------------------------------------------------------------------------------------\n",
      "|1                |debt_consolidation  |0.1189      |829.10         |11.350406540      |19.48  |737     |5639.9583330         |28854        |52.10         |0                 |0              |0          |0                 |\n",
      "|1                |credit_card         |0.1071      |228.22         |11.082142550      |14.29  |707     |2760.0000000         |33623        |76.70         |0                 |0              |0          |0                 |\n",
      "|1                |debt_consolidation  |0.1357      |366.86         |10.373491180      |11.63  |682     |4710.0000000         |3511         |25.60         |1                 |0              |0          |0                 |\n",
      "|1                |debt_consolidation  |0.1008      |162.34         |11.350406540      |8.10   |712     |2699.9583330         |33667        |73.20         |1                 |0              |0          |0                 |\n",
      "|1                |credit_card         |0.1426      |102.92         |11.299732240      |14.97  |667     |4066.0000000         |4740         |39.50         |0                 |1              |0          |0                 |\n",
      "|1                |credit_card         |0.0788      |125.13         |11.904967550      |16.98  |727     |6120.0416670         |50807        |51.00         |0                 |0              |0          |0                 |\n",
      "|1                |debt_consolidation  |0.1496      |194.02         |10.714417770      |4.00   |667     |3180.0416670         |3839         |76.80         |0                 |0              |1          |1                 |\n",
      "|1                |all_other           |0.1114      |131.22         |11.002099840      |11.08  |722     |5116.0000000         |24220        |68.60         |0                 |0              |0          |1                 |\n",
      "|1                |home_improvement    |0.1134      |87.19          |11.407564950      |17.25  |682     |3989.0000000         |69909        |51.10         |1                 |0              |0          |0                 |\n",
      "|1                |debt_consolidation  |0.1221      |84.12          |10.203592140      |10.00  |707     |2730.0416670         |5630         |23.00         |1                 |0              |0          |0                 |\n",
      "------------------------------------------------------------------------------------------------------------------------------------------------------------------------------------------------------------------------------\n",
      "\n"
     ]
    }
   ],
   "source": [
    "# Force headers to uppercase\n",
    "for colname in loandata_df.columns:\n",
    "    new_colname = str.upper(colname)\n",
    "    loandata_df = loandata_df.with_column_renamed(colname, new_colname)\n",
    "\n",
    "loandata_df.show()"
   ]
  },
  {
   "cell_type": "code",
   "execution_count": 130,
   "id": "dc3a18da-27ac-4127-9b0a-9531d4a0affe",
   "metadata": {},
   "outputs": [
    {
     "name": "stdout",
     "output_type": "stream",
     "text": [
      "------------------------------------------------------------------------------------------------------------------------------------------------------------------------------------------------------------------------------\n",
      "|\"CREDIT_POLICY\"  |\"INT_RATE\"  |\"INSTALLMENT\"  |\"LOG_ANNUAL_INC\"  |\"DTI\"  |\"FICO\"  |\"DAYS_WITH_CR_LINE\"  |\"REVOL_BAL\"  |\"REVOL_UTIL\"  |\"INQ_LAST_6MTHS\"  |\"DELINQ_2YRS\"  |\"PUB_REC\"  |\"NOT_FULLY_PAID\"  |\"PURPOSE\"           |\n",
      "------------------------------------------------------------------------------------------------------------------------------------------------------------------------------------------------------------------------------\n",
      "|1                |0.1189      |829.10         |11.350406540      |19.48  |737     |5639.9583330         |28854        |52.10         |0                 |0              |0          |0                 |DEBT_CONSOLIDATION  |\n",
      "|1                |0.1071      |228.22         |11.082142550      |14.29  |707     |2760.0000000         |33623        |76.70         |0                 |0              |0          |0                 |CREDIT_CARD         |\n",
      "|1                |0.1357      |366.86         |10.373491180      |11.63  |682     |4710.0000000         |3511         |25.60         |1                 |0              |0          |0                 |DEBT_CONSOLIDATION  |\n",
      "|1                |0.1008      |162.34         |11.350406540      |8.10   |712     |2699.9583330         |33667        |73.20         |1                 |0              |0          |0                 |DEBT_CONSOLIDATION  |\n",
      "|1                |0.1426      |102.92         |11.299732240      |14.97  |667     |4066.0000000         |4740         |39.50         |0                 |1              |0          |0                 |CREDIT_CARD         |\n",
      "|1                |0.0788      |125.13         |11.904967550      |16.98  |727     |6120.0416670         |50807        |51.00         |0                 |0              |0          |0                 |CREDIT_CARD         |\n",
      "|1                |0.1496      |194.02         |10.714417770      |4.00   |667     |3180.0416670         |3839         |76.80         |0                 |0              |1          |1                 |DEBT_CONSOLIDATION  |\n",
      "|1                |0.1114      |131.22         |11.002099840      |11.08  |722     |5116.0000000         |24220        |68.60         |0                 |0              |0          |1                 |ALL_OTHER           |\n",
      "|1                |0.1134      |87.19          |11.407564950      |17.25  |682     |3989.0000000         |69909        |51.10         |1                 |0              |0          |0                 |HOME_IMPROVEMENT    |\n",
      "|1                |0.1221      |84.12          |10.203592140      |10.00  |707     |2730.0416670         |5630         |23.00         |1                 |0              |0          |0                 |DEBT_CONSOLIDATION  |\n",
      "------------------------------------------------------------------------------------------------------------------------------------------------------------------------------------------------------------------------------\n",
      "\n"
     ]
    }
   ],
   "source": [
    "# Define a function to clean a column by replacing non-alphanumeric characters with underscores and converting to uppercase.\n",
    "\n",
    "def fix_values(columnn):\n",
    "    return F.upper(F.regexp_replace(F.col(columnn), '[^a-zA-Z0-9]+', '_'))\n",
    "\n",
    "# Apply the 'fix_values' function to the 'PURPOSE' column of the 'loandata_df' DataFrame to clean its values.\n",
    "for col in [\"PURPOSE\"]:\n",
    "    loandata_df = loandata_df.with_column(col, fix_values(col))\n",
    "    \n",
    "# Display the DataFrame to review the changes made to the 'PURPOSE' column.\n",
    "loandata_df.show()"
   ]
  },
  {
   "cell_type": "code",
   "execution_count": 131,
   "id": "caf593b6-dc5f-4208-9bce-f6816399f386",
   "metadata": {},
   "outputs": [
    {
     "data": {
      "text/plain": [
       "[StructField('CREDIT_POLICY', LongType(), nullable=True),\n",
       " StructField('INT_RATE', DecimalType(5, 4), nullable=True),\n",
       " StructField('INSTALLMENT', DecimalType(5, 2), nullable=True),\n",
       " StructField('LOG_ANNUAL_INC', DecimalType(11, 9), nullable=True),\n",
       " StructField('DTI', DecimalType(4, 2), nullable=True),\n",
       " StructField('FICO', LongType(), nullable=True),\n",
       " StructField('DAYS_WITH_CR_LINE', DecimalType(12, 7), nullable=True),\n",
       " StructField('REVOL_BAL', LongType(), nullable=True),\n",
       " StructField('REVOL_UTIL', DecimalType(5, 2), nullable=True),\n",
       " StructField('INQ_LAST_6MTHS', LongType(), nullable=True),\n",
       " StructField('DELINQ_2YRS', LongType(), nullable=True),\n",
       " StructField('PUB_REC', LongType(), nullable=True),\n",
       " StructField('NOT_FULLY_PAID', LongType(), nullable=True),\n",
       " StructField('PURPOSE', StringType(16777216), nullable=True)]"
      ]
     },
     "execution_count": 131,
     "metadata": {},
     "output_type": "execute_result"
    }
   ],
   "source": [
    "list(loandata_df.schema)"
   ]
  },
  {
   "cell_type": "code",
   "execution_count": 132,
   "id": "a5121754-d1a2-439b-874e-b58c08880d0e",
   "metadata": {},
   "outputs": [
    {
     "data": {
      "text/plain": [
       "[StructField('PURPOSE', StringType(16777216), nullable=True),\n",
       " StructField('CREDIT_POLICY', DoubleType(), nullable=True),\n",
       " StructField('INT_RATE', DoubleType(), nullable=True),\n",
       " StructField('INSTALLMENT', DoubleType(), nullable=True),\n",
       " StructField('LOG_ANNUAL_INC', DoubleType(), nullable=True),\n",
       " StructField('DTI', DoubleType(), nullable=True),\n",
       " StructField('FICO', DoubleType(), nullable=True),\n",
       " StructField('DAYS_WITH_CR_LINE', DoubleType(), nullable=True),\n",
       " StructField('REVOL_BAL', DoubleType(), nullable=True),\n",
       " StructField('REVOL_UTIL', DoubleType(), nullable=True),\n",
       " StructField('INQ_LAST_6MTHS', DoubleType(), nullable=True),\n",
       " StructField('DELINQ_2YRS', DoubleType(), nullable=True),\n",
       " StructField('PUB_REC', DoubleType(), nullable=True),\n",
       " StructField('NOT_FULLY_PAID', DoubleType(), nullable=True)]"
      ]
     },
     "execution_count": 132,
     "metadata": {},
     "output_type": "execute_result"
    }
   ],
   "source": [
    "# Loop through a list of column names and cast each column to DoubleType in the 'loandata_df' DataFrame.\n",
    "for colname in [\"CREDIT_POLICY\", \"INT_RATE\", \"INSTALLMENT\", \"LOG_ANNUAL_INC\", \"DTI\", \"FICO\",\"DAYS_WITH_CR_LINE\",\"REVOL_BAL\",\"REVOL_UTIL\",\"INQ_LAST_6MTHS\",\"DELINQ_2YRS\",\"PUB_REC\",\"NOT_FULLY_PAID\"]:\n",
    "    loandata_df = loandata_df.with_column(colname, loandata_df[colname].cast(DoubleType()))\n",
    "list(loandata_df.schema)"
   ]
  },
  {
   "cell_type": "markdown",
   "id": "2e390d16-5a25-47a5-b944-8b3b245bd03a",
   "metadata": {},
   "source": [
    "INT_RATE (Interest Rate)\n",
    "INSTALLMENT\n",
    "LOG_ANNUAL_INC (Logarithm of Annual Income)\n",
    "DTI (Debt-to-Income Ratio)\n",
    "FICO (FICO Credit Score)\n",
    "DAYS_WITH_CR_LINE (Days with Credit Line)\n",
    "REVOL_BAL (Revolving Balance)\n",
    "REVOL_UTIL (Revolving Line Utilization Rate)\n",
    "INQ_LAST_6MTHS (Inquiries in Last 6 Months)\n",
    "DELINQ_2YRS (Delinquencies in the Past 2 Years)\n",
    "PUB_REC (Public Records)"
   ]
  },
  {
   "cell_type": "code",
   "execution_count": 133,
   "id": "23bc4551-5420-4f30-a842-2d777afea4a5",
   "metadata": {},
   "outputs": [],
   "source": [
    "loandata_df.write.mode('overwrite').save_as_table('loandata_trial123')"
   ]
  },
  {
   "cell_type": "code",
   "execution_count": 134,
   "id": "ac33c817-0e03-414d-946c-dcdc2d3d86e5",
   "metadata": {},
   "outputs": [
    {
     "name": "stdout",
     "output_type": "stream",
     "text": [
      "----------------------\n",
      "|\"PURPOSE\"           |\n",
      "----------------------\n",
      "|DEBT_CONSOLIDATION  |\n",
      "|CREDIT_CARD         |\n",
      "|ALL_OTHER           |\n",
      "|HOME_IMPROVEMENT    |\n",
      "|SMALL_BUSINESS      |\n",
      "|MAJOR_PURCHASE      |\n",
      "|EDUCATIONAL         |\n",
      "----------------------\n",
      "\n"
     ]
    }
   ],
   "source": [
    "from snowflake.snowpark.functions import col\n",
    "unique_PURPOSE=loandata_df.select(col(\"PURPOSE\")).distinct()\n",
    "unique_PURPOSE.show()"
   ]
  },
  {
   "cell_type": "code",
   "execution_count": 135,
   "id": "d9fa71b6-833f-4282-ba01-a0d589f1f2e1",
   "metadata": {},
   "outputs": [],
   "source": [
    "categories = {\"PURPOSE\": np.array([\"DEBT_CONSOLIDATION\", \"CREDIT_CARD\", \"ALL_OTHER\", \"HOME_IMPROVEMENT\", \"SMALL_BUSINESS\",\"MAJOR_PURCHASE\",\"EDUCATIONAL\"]) }"
   ]
  },
  {
   "cell_type": "code",
   "execution_count": 136,
   "id": "401f4007-15e9-44bf-bd85-f00a7ef1f055",
   "metadata": {},
   "outputs": [],
   "source": [
    "# Initialize an OrdinalEncoder to encode the 'PURPOSE' column according to the specified categories.\n",
    "snowml_oe = snowml.OrdinalEncoder(input_cols=[\"PURPOSE\"], output_cols=[\"PURPOSE_OE\"], categories=categories)\n",
    "\n",
    "# Fit the OrdinalEncoder to the loandata_df and transform it, encoding the 'PURPOSE' column.\n",
    "ord_encoded_loandata_df = snowml_oe.fit(loandata_df).transform(loandata_df)\n",
    "\n",
    "\n",
    "# Drop the original 'PURPOSE' column from the DataFrame after encoding.\n",
    "# Rename the encoded column 'PURPOSE_OE' back to 'PURPOSE' for clarity in the final DataFrame.\n",
    "ord_encoded_loandata_df=ord_encoded_loandata_df.drop(\"PURPOSE\")\n",
    "df_clean = ord_encoded_loandata_df.rename(col(\"PURPOSE_OE\"), \"PURPOSE\")"
   ]
  },
  {
   "cell_type": "code",
   "execution_count": 137,
   "id": "1bc4bf2a-a70f-4200-a7cb-337071f8cbf7",
   "metadata": {},
   "outputs": [
    {
     "name": "stdout",
     "output_type": "stream",
     "text": [
      "---------------------------------------------------------------------------------------------------------------------------------------------------------------------------------------------------------------------\n",
      "|\"PURPOSE\"  |\"CREDIT_POLICY\"  |\"INT_RATE\"  |\"INSTALLMENT\"  |\"LOG_ANNUAL_INC\"  |\"DTI\"  |\"FICO\"  |\"DAYS_WITH_CR_LINE\"  |\"REVOL_BAL\"  |\"REVOL_UTIL\"  |\"INQ_LAST_6MTHS\"  |\"DELINQ_2YRS\"  |\"PUB_REC\"  |\"NOT_FULLY_PAID\"  |\n",
      "---------------------------------------------------------------------------------------------------------------------------------------------------------------------------------------------------------------------\n",
      "|0.0        |0.0              |0.1829      |411.99         |11.46163217       |20.48  |652.0   |7207.0               |10705.0      |44.6          |7.0               |1.0            |1.0        |0.0               |\n",
      "|0.0        |0.0              |0.1197      |166.0          |10.30895266       |20.76  |687.0   |4079.958333          |14536.0      |68.9          |4.0               |0.0            |0.0        |0.0               |\n",
      "|0.0        |0.0              |0.1387      |85.29          |10.1266311        |4.18   |647.0   |509.9583333          |2634.0       |38.2          |4.0               |0.0            |0.0        |0.0               |\n",
      "|0.0        |0.0              |0.1071      |163.01         |11.28978191       |12.08  |702.0   |6090.0               |14434.0      |56.4          |9.0               |0.0            |1.0        |0.0               |\n",
      "|0.0        |0.0              |0.1734      |644.8          |11.40756495       |25.59  |687.0   |4680.0               |61915.0      |86.2          |1.0               |0.0            |0.0        |0.0               |\n",
      "|0.0        |0.0              |0.1197      |196.71         |11.38509209       |20.84  |687.0   |5189.958333          |44040.0      |83.3          |17.0              |0.0            |1.0        |1.0               |\n",
      "|0.0        |0.0              |0.164       |530.33         |11.40756495       |18.12  |657.0   |6390.0               |13605.0      |70.9          |2.0               |1.0            |0.0        |0.0               |\n",
      "|0.0        |0.0              |0.1418      |143.92         |10.40426284       |9.2    |647.0   |4799.958333          |5509.0       |96.6          |1.0               |1.0            |1.0        |1.0               |\n",
      "|0.0        |0.0              |0.1734      |279.42         |10.858999         |28.36  |672.0   |4469.958333          |17905.0      |92.3          |1.0               |0.0            |1.0        |0.0               |\n",
      "|0.0        |0.0              |0.1071      |97.81          |10.20359214       |18.89  |697.0   |3812.0               |0.0          |81.3          |0.0               |0.0            |0.0        |0.0               |\n",
      "---------------------------------------------------------------------------------------------------------------------------------------------------------------------------------------------------------------------\n",
      "\n"
     ]
    }
   ],
   "source": [
    "df_clean.show()"
   ]
  },
  {
   "cell_type": "markdown",
   "id": "2efdfe0f-ca77-453b-b2da-71cd492ecdbe",
   "metadata": {},
   "source": [
    "# Handling class imbalance by over-sampling"
   ]
  },
  {
   "cell_type": "code",
   "execution_count": 138,
   "id": "dd83c927-7efd-40fa-beb5-f6b8d69a9802",
   "metadata": {},
   "outputs": [
    {
     "name": "stdout",
     "output_type": "stream",
     "text": [
      "---------------------------------------------\n",
      "|\"NOT_FULLY_PAID\"  |\"COUNT\"  |\"PROPORTION\"  |\n",
      "---------------------------------------------\n",
      "|0.0               |8045     |0.839946      |\n",
      "|1.0               |1533     |0.160054      |\n",
      "---------------------------------------------\n",
      "\n"
     ]
    }
   ],
   "source": [
    "\n",
    "from snowflake.snowpark.functions import count, lit\n",
    "\n",
    "count_df = df_clean.group_by(\"NOT_FULLY_PAID\").agg(count(\"*\").alias(\"count\"))\n",
    "\n",
    "# Calculate the proportion of each category\n",
    "total_count = df_clean.count()\n",
    "proportion_df = count_df.with_column(\"proportion\", count_df[\"count\"] / lit(total_count))\n",
    "\n",
    "# Show the result\n",
    "proportion_df.show()\n",
    "\n",
    "\n"
   ]
  },
  {
   "cell_type": "code",
   "execution_count": 139,
   "id": "6b9256c7-f1df-49c3-b13a-d56aea95931e",
   "metadata": {},
   "outputs": [
    {
     "name": "stdout",
     "output_type": "stream",
     "text": [
      "Random over-sampling:\n",
      "0.0    8045\n",
      "1.0    8045\n",
      "Name: NOT_FULLY_PAID, dtype: int64\n"
     ]
    }
   ],
   "source": [
    "# Handling class imbalance by over-sampling\n",
    "df_pd=df_clean.to_pandas()\n",
    "\n",
    "count_class_0, count_class_1 = df_pd['NOT_FULLY_PAID'].value_counts()\n",
    "df_0 = df_pd[df_pd['NOT_FULLY_PAID'] == 0]\n",
    "df_1 = df_pd[df_pd['NOT_FULLY_PAID'] == 1]\n",
    "df_1_over = df_1.sample(count_class_0, replace=True)\n",
    "df_test_over_pd = pd.concat([df_0, df_1_over], axis=0)\n",
    "\n",
    "print('Random over-sampling:')\n",
    "print(df_test_over_pd['NOT_FULLY_PAID'].value_counts())\n",
    "\n",
    "df_final=session.create_dataframe(df_test_over_pd) #pandas to snowpark\n"
   ]
  },
  {
   "cell_type": "code",
   "execution_count": 140,
   "id": "77ce41bb-af47-44e5-8dcd-4ad521af61d5",
   "metadata": {},
   "outputs": [
    {
     "name": "stdout",
     "output_type": "stream",
     "text": [
      "---------------------------------------------------------------------------------------------------------------------------------------------------------------------------------------------------------------------\n",
      "|\"PURPOSE\"  |\"CREDIT_POLICY\"  |\"INT_RATE\"  |\"INSTALLMENT\"  |\"LOG_ANNUAL_INC\"  |\"DTI\"  |\"FICO\"  |\"DAYS_WITH_CR_LINE\"  |\"REVOL_BAL\"  |\"REVOL_UTIL\"  |\"INQ_LAST_6MTHS\"  |\"DELINQ_2YRS\"  |\"PUB_REC\"  |\"NOT_FULLY_PAID\"  |\n",
      "---------------------------------------------------------------------------------------------------------------------------------------------------------------------------------------------------------------------\n",
      "|0.0        |0.0              |0.1829      |411.99         |11.46163217       |20.48  |652.0   |7207.0               |10705.0      |44.6          |7.0               |1.0            |1.0        |0.0               |\n",
      "|0.0        |0.0              |0.1197      |166.0          |10.30895266       |20.76  |687.0   |4079.958333          |14536.0      |68.9          |4.0               |0.0            |0.0        |0.0               |\n",
      "|0.0        |0.0              |0.1387      |85.29          |10.1266311        |4.18   |647.0   |509.9583333          |2634.0       |38.2          |4.0               |0.0            |0.0        |0.0               |\n",
      "|0.0        |0.0              |0.1071      |163.01         |11.28978191       |12.08  |702.0   |6090.0               |14434.0      |56.4          |9.0               |0.0            |1.0        |0.0               |\n",
      "|0.0        |0.0              |0.1734      |644.8          |11.40756495       |25.59  |687.0   |4680.0               |61915.0      |86.2          |1.0               |0.0            |0.0        |0.0               |\n",
      "|0.0        |0.0              |0.164       |530.33         |11.40756495       |18.12  |657.0   |6390.0               |13605.0      |70.9          |2.0               |1.0            |0.0        |0.0               |\n",
      "|0.0        |0.0              |0.1734      |279.42         |10.858999         |28.36  |672.0   |4469.958333          |17905.0      |92.3          |1.0               |0.0            |1.0        |0.0               |\n",
      "|0.0        |0.0              |0.1071      |97.81          |10.20359214       |18.89  |697.0   |3812.0               |0.0          |81.3          |0.0               |0.0            |0.0        |0.0               |\n",
      "|0.0        |0.0              |0.1545      |453.52         |10.59663473       |14.52  |657.0   |3810.0               |8545.0       |82.2          |3.0               |0.0            |0.0        |0.0               |\n",
      "|0.0        |0.0              |0.1292      |30.29          |9.454070557       |25.11  |717.0   |3180.0               |3584.0       |50.6          |0.0               |0.0            |0.0        |0.0               |\n",
      "---------------------------------------------------------------------------------------------------------------------------------------------------------------------------------------------------------------------\n",
      "\n"
     ]
    }
   ],
   "source": [
    "df_final.show()"
   ]
  },
  {
   "cell_type": "markdown",
   "id": "e95010c3-76ab-4afa-9e08-3158e5d72fc3",
   "metadata": {},
   "source": [
    "# Hyperparameter tuning"
   ]
  },
  {
   "cell_type": "code",
   "execution_count": 141,
   "id": "730562e7-9ca9-42a1-aade-03755e1b9523",
   "metadata": {},
   "outputs": [
    {
     "data": {
      "text/plain": [
       "<snowflake.ml.modeling.model_selection.grid_search_cv.GridSearchCV at 0x18403eb10>"
      ]
     },
     "execution_count": 141,
     "metadata": {},
     "output_type": "execute_result"
    }
   ],
   "source": [
    "\n",
    "# Initialize an XGBClassifier model, then split the dataset into training and testing sets.\n",
    "# Set up and perform grid search with specified hyperparameters to find the best model configuration, focusing on accuracy.\n",
    "\n",
    "from snowflake.ml.modeling.xgboost import XGBClassifier\n",
    "from snowflake.ml.modeling.model_selection import GridSearchCV\n",
    "\n",
    "from snowflake.snowpark.functions import col\n",
    "\n",
    "\n",
    "# Define the model\n",
    "model = XGBClassifier()\n",
    "train_df, test_df = df_final.random_split(weights=[0.9, 0.1], seed=0)\n",
    "\n",
    "# Specify hyperparameters to tune\n",
    "param_grid = {\n",
    "    'max_depth': [3, 4, 5],\n",
    "    'learning_rate': [0.01, 0.1, 0.2],\n",
    "    'n_estimators': [100, 200, 300]\n",
    "}\n",
    "\n",
    "grid_search=GridSearchCV(\n",
    "    estimator=XGBClassifier(),\n",
    "    param_grid=param_grid,\n",
    "    n_jobs=-1,\n",
    "    scoring=\"accuracy\",\n",
    "    input_cols=train_df.drop(\"NOT_FULLY_PAID\").columns,\n",
    "    label_cols=\"NOT_FULLY_PAID\",\n",
    "    output_cols=\"PREDICTION\",\n",
    ")\n",
    "\n",
    "grid_search.fit(train_df)\n"
   ]
  },
  {
   "cell_type": "markdown",
   "id": "13b7eb1c-7ace-48af-8288-df6ee4df78bc",
   "metadata": {},
   "source": [
    "<b>max_depth</b>: Determines the maximum depth of the trees. Deeper trees can model more complex patterns but might lead to overfitting. Values explored are 3, 4, and 5, aiming to find a balance between model complexity and generalization.\n",
    "<br><br>\n",
    "<b>learning_rate</b>: Controls the step size at each iteration while moving toward a minimum of a loss function. A lower rate requires more iterations but can achieve a more accurate model. Tested rates are 0.01, 0.1, and 0.2, to evaluate the trade-off between convergence speed and model performance.\n",
    "<br><br>\n",
    "<b>n_estimators</b>: Specifies the number of trees in the ensemble. More trees can lead to better performance but also increase computation time. The grid search tests 100, 200, and 300 trees to find an optimal number for the ensemble size.\n",
    "<br><br>\n",
    "<b>Grid Search</b>:<br>\n",
    "Grid search is a brute-force method for hyperparameter optimization. It systematically creates and evaluates models for each combination of the parameter grid specified. This approach ensures that every possible combination is tested but can be computationally expensive, especially with large datasets and many parameters.\n",
    "<br><br>\n",
    "<b>Other Types of Hyperparameter Optimizations</b>:\n",
    "<br><br>\n",
    "<b>Random Search</b>: Samples parameter combinations randomly. This method is more efficient than grid search when dealing with a large number of hyperparameters.\n",
    "<br><br>\n",
    "<b>Bayesian Optimization</b>: Uses a probabilistic model to predict the performance of parameter combinations and selects new combinations to test based on past results, optimizing both exploration of the parameter space and exploitation of known good areas.\n",
    "<br><br>\n",
    "<b>Gradient-based Optimization</b>: Applies gradient descent or similar methods to optimize hyperparameters, particularly useful when the parameters are continuous.\n",
    "<br><br>\n",
    "<b>Evolutionary Algorithms</b>: Mimic the process of natural selection to iteratively select, mutate, and combine parameters to find optimal solutions over generations.\n",
    "<br><br>\n",
    "<b>Why Hyperparameter Optimization is Needed</b>:\n",
    "Hyperparameter optimization is crucial for machine learning models to enhance their performance on a given task. The default parameters of a model might not be ideal for all types of data or problems. By tuning hyperparameters, we can significantly improve a model's accuracy, efficiency, and generalization ability to unseen data, ensuring the model is well-suited for its specific application."
   ]
  },
  {
   "cell_type": "code",
   "execution_count": 142,
   "id": "fdcc9e17-75c4-4e25-9477-f45fa2ab47d4",
   "metadata": {},
   "outputs": [],
   "source": [
    "# Use the best model found by grid search to make predictions on the test dataset and store the results in `predictions_df`.\n",
    "\n",
    "predictions_df = grid_search.predict(test_df)"
   ]
  },
  {
   "cell_type": "code",
   "execution_count": 143,
   "id": "7d020cad-d19e-4c9a-99e3-0ee73c06980a",
   "metadata": {},
   "outputs": [
    {
     "name": "stdout",
     "output_type": "stream",
     "text": [
      "------------------------------------------------------------------------------------------------------------------------------------------------------------------------------------------------------------------------------------\n",
      "|\"CREDIT_POLICY\"  |\"REVOL_UTIL\"  |\"INQ_LAST_6MTHS\"  |\"FICO\"  |\"LOG_ANNUAL_INC\"  |\"DELINQ_2YRS\"  |\"PUB_REC\"  |\"DAYS_WITH_CR_LINE\"  |\"INSTALLMENT\"  |\"DTI\"  |\"NOT_FULLY_PAID\"  |\"INT_RATE\"  |\"PURPOSE\"  |\"REVOL_BAL\"  |\"PREDICTION\"  |\n",
      "------------------------------------------------------------------------------------------------------------------------------------------------------------------------------------------------------------------------------------\n",
      "|0.0              |71.3          |0.0               |647.0   |10.8365174        |0.0            |0.0        |4409.958333          |75.73          |7.27   |0.0               |0.145       |0.0        |6417.0       |0.0           |\n",
      "|0.0              |88.5          |4.0               |667.0   |10.79957558       |1.0            |0.0        |3540.0               |135.84         |18.74  |0.0               |0.1355      |0.0        |16195.0      |1.0           |\n",
      "|0.0              |12.6          |3.0               |657.0   |10.55581274       |0.0            |0.0        |1620.958333          |60.58          |8.34   |0.0               |0.1292      |0.0        |442.0        |0.0           |\n",
      "|0.0              |55.8          |1.0               |657.0   |11.26446411       |0.0            |0.0        |2190.0               |258.16         |18.37  |0.0               |0.145       |0.0        |18158.0      |0.0           |\n",
      "|0.0              |93.0          |4.0               |677.0   |10.71441777       |0.0            |0.0        |4500.0               |41.2           |16.67  |0.0               |0.1286      |0.0        |21022.0      |0.0           |\n",
      "|0.0              |83.5          |6.0               |672.0   |11.28978191       |1.0            |0.0        |5610.041667          |901.06         |12.99  |0.0               |0.1778      |0.0        |35251.0      |1.0           |\n",
      "|0.0              |83.8          |4.0               |672.0   |10.08580911       |0.0            |0.0        |1350.0               |189.64         |20.45  |0.0               |0.1462      |0.0        |4609.0       |0.0           |\n",
      "|0.0              |80.5          |4.0               |712.0   |11.49276357       |0.0            |0.0        |5280.041667          |773.22         |22.77  |0.0               |0.1284      |0.0        |29716.0      |1.0           |\n",
      "|0.0              |33.2          |9.0               |727.0   |10.94022444       |0.0            |0.0        |5951.0               |235.56         |21.53  |0.0               |0.16        |0.0        |9007.0       |0.0           |\n",
      "|0.0              |11.5          |4.0               |692.0   |10.6454249        |0.0            |0.0        |1500.0               |375.63         |19.29  |0.0               |0.1442      |0.0        |2216.0       |1.0           |\n",
      "------------------------------------------------------------------------------------------------------------------------------------------------------------------------------------------------------------------------------------\n",
      "\n"
     ]
    }
   ],
   "source": [
    "predictions_df.show()"
   ]
  },
  {
   "cell_type": "code",
   "execution_count": 144,
   "id": "e55b6c33-4dbe-4408-aa5f-98947a85a6a4",
   "metadata": {},
   "outputs": [
    {
     "name": "stdout",
     "output_type": "stream",
     "text": [
      "-----------------------------------\n",
      "|\"NOT_FULLY_PAID\"  |\"PREDICTION\"  |\n",
      "-----------------------------------\n",
      "|0.0               |0.0           |\n",
      "|0.0               |1.0           |\n",
      "|0.0               |0.0           |\n",
      "|0.0               |0.0           |\n",
      "|0.0               |0.0           |\n",
      "|0.0               |1.0           |\n",
      "|0.0               |0.0           |\n",
      "|0.0               |1.0           |\n",
      "|0.0               |0.0           |\n",
      "|0.0               |1.0           |\n",
      "-----------------------------------\n",
      "\n"
     ]
    }
   ],
   "source": [
    "# Display a comparison between the actual labels and the predictions made by the model for the test dataset.\n",
    "\n",
    "predictions_df.select(\"NOT_FULLY_PAID\", \"PREDICTION\").show()"
   ]
  },
  {
   "cell_type": "code",
   "execution_count": 145,
   "id": "ac789b86-a10f-42c1-8af0-e2e4ad159c67",
   "metadata": {},
   "outputs": [
    {
     "name": "stdout",
     "output_type": "stream",
     "text": [
      "Prediction score: 0.9016089108910891\n"
     ]
    }
   ],
   "source": [
    "\n",
    "\n",
    "score = grid_search.score(test_df)\n",
    "\n",
    "# Print the score\n",
    "print(f\"Prediction score: {score}\")\n"
   ]
  },
  {
   "cell_type": "code",
   "execution_count": 146,
   "id": "a1549281-f20a-493c-9187-33c10e17374d",
   "metadata": {},
   "outputs": [],
   "source": [
    "FEATURE_COLS=[\"PURPOSE\",\"CREDIT_POLICY\",\"INT_RATE\",\"INSTALLMENT\",\"LOG_ANNUAL_INC\",\"DTI\",\"FICO\",\"DAYS_WITH_CR_LINE\",\"REVOL_BAL\",\"REVOL_UTIL\",\"INQ_LAST_6MTHS\",\"DELINQ_2YRS\",\"PUB_REC\"]\n",
    "LABEL_COLS=[\"NOT_FULLY_PAID\"]\n",
    "OUTPUT_COLS=[\"PREDICTION\"]"
   ]
  },
  {
   "cell_type": "code",
   "execution_count": 147,
   "id": "30bc0209-fd23-410c-89ff-2ecabfb58aae",
   "metadata": {},
   "outputs": [
    {
     "data": {
      "text/plain": [
       "0.901609"
      ]
     },
     "execution_count": 147,
     "metadata": {},
     "output_type": "execute_result"
    }
   ],
   "source": [
    "# Evaluate the model's performance on the test dataset using the scoring metric defined in the grid search, and print the score.\n",
    "# Calculate and display the training accuracy and confusion matrix for the model using actual and predicted labels from `predictions_df`.\n",
    "\n",
    "from snowflake.ml.modeling.metrics import accuracy_score, confusion_matrix\n",
    "traning_accuracy_score=accuracy_score(\n",
    "    df=predictions_df,\n",
    "    y_true_col_names=LABEL_COLS,\n",
    "    y_pred_col_names=OUTPUT_COLS\n",
    ")\n",
    "traning_accuracy_score"
   ]
  },
  {
   "cell_type": "markdown",
   "id": "6aa74e40-ee86-41b4-998e-f7c88f29ee7c",
   "metadata": {},
   "source": [
    "The printed score of 0.907797 indicates that the model accurately predicted the correct outcome for approximately 90.78% of the cases in the test dataset. This high accuracy score suggests that the model is highly effective in making predictions for this particular task."
   ]
  },
  {
   "cell_type": "code",
   "execution_count": 148,
   "id": "3dea07d7-d028-49af-8210-288e25425624",
   "metadata": {},
   "outputs": [
    {
     "data": {
      "text/plain": [
       "array([[693., 108.],\n",
       "       [ 51., 764.]])"
      ]
     },
     "execution_count": 148,
     "metadata": {},
     "output_type": "execute_result"
    }
   ],
   "source": [
    "traning_confusion_matrix=confusion_matrix(\n",
    "    df=predictions_df,\n",
    "    y_true_col_name=LABEL_COLS[0],\n",
    "    y_pred_col_name=OUTPUT_COLS[0]\n",
    ")\n",
    "traning_confusion_matrix"
   ]
  },
  {
   "cell_type": "markdown",
   "id": "258b9384-b9f7-4964-bf14-1a820df50614",
   "metadata": {},
   "source": [
    "The confusion matrix output represents the performance of the classification model:\n",
    "<br><br>\n",
    "Top-left (694): True Negatives (TN) - The number of instances correctly predicted as negative (not fully paid).<br>\n",
    "Top-right (107): False Positives (FP) - The number of instances incorrectly predicted as positive (fully paid) when they are actually negative.<br>\n",
    "Bottom-left (42): False Negatives (FN) - The number of instances incorrectly predicted as negative when they are actually positive.<br>\n",
    "Bottom-right (773): True Positives (TP) - The number of instances correctly predicted as positive.<br>\n",
    "This matrix helps in understanding the model's ability to correctly or incorrectly classify instances into 'fully paid' or 'not fully paid' categories.<br>"
   ]
  },
  {
   "cell_type": "markdown",
   "id": "6b82818b-1ec8-4b43-a9d1-08662689f939",
   "metadata": {},
   "source": [
    "# Model Management and Deployment with Model Registry\n",
    "\n",
    "with Snowpark ML's model registry, we have a Snowflake native model versioning and deployment framework. This allows us to log models, tag parameters and metrics, track metadata, create versions, and ultimately execute batch inference tasks in a Snowflake warehouse or deploy to a Snowpark Container Service."
   ]
  },
  {
   "cell_type": "code",
   "execution_count": 149,
   "id": "9d0b117e-ccec-41ab-8cb8-e42d791cda70",
   "metadata": {},
   "outputs": [],
   "source": [
    "# Initialize the Registry class from Snowflake's ML package to manage machine learning models within Snowflake. \n",
    "# The registry is set up with the current session's database and schema, allowing for storing, versioning, and deploying ML models directly within Snowflake.\n",
    "\n",
    "from snowflake.ml.registry import Registry\n",
    "reg=Registry(session=session,  database_name=session.get_current_database(),schema_name=session.get_current_schema())\n"
   ]
  },
  {
   "cell_type": "code",
   "execution_count": 150,
   "id": "6272076d-eaab-4c7c-a809-252e7bde567f",
   "metadata": {},
   "outputs": [],
   "source": [
    "# Log the XGBoost model to the Snowflake ML Registry with specified details, including model name, version, requirements, and comments.\n",
    "# Additionally, include model performance metrics (accuracy score and confusion matrix) and a sample of input data for reference or later use.\n",
    "\n",
    "mv=reg.log_model(\n",
    "    grid_search,\n",
    "    model_name=\"xgb_loan_default_prediction\",\n",
    "    version_name=\"v3\",\n",
    "    pip_requirements=[\"packaging\"],\n",
    "    comment=\"simple  XGB model to predict loan default\",\n",
    "    metrics={\n",
    "    \"training_accuracy_score\":traning_accuracy_score,\n",
    "    \"training_confution_matrix\":traning_confusion_matrix.tolist()\n",
    "    },\n",
    "    sample_input_data=train_df\n",
    ")"
   ]
  },
  {
   "cell_type": "code",
   "execution_count": 151,
   "id": "80c91f71-f332-4ed7-837b-64dc451842ed",
   "metadata": {},
   "outputs": [
    {
     "data": {
      "text/html": [
       "<div>\n",
       "<style scoped>\n",
       "    .dataframe tbody tr th:only-of-type {\n",
       "        vertical-align: middle;\n",
       "    }\n",
       "\n",
       "    .dataframe tbody tr th {\n",
       "        vertical-align: top;\n",
       "    }\n",
       "\n",
       "    .dataframe thead th {\n",
       "        text-align: right;\n",
       "    }\n",
       "</style>\n",
       "<table border=\"1\" class=\"dataframe\">\n",
       "  <thead>\n",
       "    <tr style=\"text-align: right;\">\n",
       "      <th></th>\n",
       "      <th>created_on</th>\n",
       "      <th>name</th>\n",
       "      <th>database_name</th>\n",
       "      <th>schema_name</th>\n",
       "      <th>comment</th>\n",
       "      <th>owner</th>\n",
       "      <th>default_version_name</th>\n",
       "      <th>versions</th>\n",
       "    </tr>\n",
       "  </thead>\n",
       "  <tbody>\n",
       "    <tr>\n",
       "      <th>0</th>\n",
       "      <td>2024-02-14 13:59:31.924000-08:00</td>\n",
       "      <td>DIAMONDS_PRICE_PREDICTION</td>\n",
       "      <td>ML_HOL_DB</td>\n",
       "      <td>ML_HOL_SCHEMA</td>\n",
       "      <td>None</td>\n",
       "      <td>ACCOUNTADMIN</td>\n",
       "      <td>V0</td>\n",
       "      <td>[\"V0\",\"V1\",\"V2\",\"V3\",\"V4\",\"V5\"]</td>\n",
       "    </tr>\n",
       "    <tr>\n",
       "      <th>1</th>\n",
       "      <td>2024-02-15 07:39:05.441000-08:00</td>\n",
       "      <td>LOAN_DEFAULT_PREDICTION</td>\n",
       "      <td>ML_HOL_DB</td>\n",
       "      <td>ML_HOL_SCHEMA</td>\n",
       "      <td>None</td>\n",
       "      <td>ACCOUNTADMIN</td>\n",
       "      <td>V0</td>\n",
       "      <td>[\"V0\",\"V1\",\"V2\",\"V6\"]</td>\n",
       "    </tr>\n",
       "    <tr>\n",
       "      <th>2</th>\n",
       "      <td>2024-02-18 20:40:26.025000-08:00</td>\n",
       "      <td>XGB_LOAN_DEFAULT_PREDICTION</td>\n",
       "      <td>ML_HOL_DB</td>\n",
       "      <td>ML_HOL_SCHEMA</td>\n",
       "      <td>None</td>\n",
       "      <td>ACCOUNTADMIN</td>\n",
       "      <td>V1</td>\n",
       "      <td>[\"V1\",\"V2\",\"V3\"]</td>\n",
       "    </tr>\n",
       "  </tbody>\n",
       "</table>\n",
       "</div>"
      ],
      "text/plain": [
       "                        created_on                         name database_name  \\\n",
       "0 2024-02-14 13:59:31.924000-08:00    DIAMONDS_PRICE_PREDICTION     ML_HOL_DB   \n",
       "1 2024-02-15 07:39:05.441000-08:00      LOAN_DEFAULT_PREDICTION     ML_HOL_DB   \n",
       "2 2024-02-18 20:40:26.025000-08:00  XGB_LOAN_DEFAULT_PREDICTION     ML_HOL_DB   \n",
       "\n",
       "     schema_name comment         owner default_version_name  \\\n",
       "0  ML_HOL_SCHEMA    None  ACCOUNTADMIN                   V0   \n",
       "1  ML_HOL_SCHEMA    None  ACCOUNTADMIN                   V0   \n",
       "2  ML_HOL_SCHEMA    None  ACCOUNTADMIN                   V1   \n",
       "\n",
       "                          versions  \n",
       "0  [\"V0\",\"V1\",\"V2\",\"V3\",\"V4\",\"V5\"]  \n",
       "1            [\"V0\",\"V1\",\"V2\",\"V6\"]  \n",
       "2                 [\"V1\",\"V2\",\"V3\"]  "
      ]
     },
     "execution_count": 151,
     "metadata": {},
     "output_type": "execute_result"
    }
   ],
   "source": [
    "# Retrieve a list of all models stored in the Snowflake ML Registry within the current session's database and schema, and display the first few entries.\n",
    "\n",
    "models_df=reg.show_models()\n",
    "models_df.head()"
   ]
  },
  {
   "cell_type": "code",
   "execution_count": 152,
   "id": "c452fdb2-b6c3-4c08-812c-e9d89fe26170",
   "metadata": {},
   "outputs": [
    {
     "data": {
      "text/plain": [
       "['DIAMONDS_PRICE_PREDICTION',\n",
       " 'LOAN_DEFAULT_PREDICTION',\n",
       " 'XGB_LOAN_DEFAULT_PREDICTION']"
      ]
     },
     "execution_count": 152,
     "metadata": {},
     "output_type": "execute_result"
    }
   ],
   "source": [
    "model_list=reg.models()\n",
    "[m.name for m in model_list]"
   ]
  },
  {
   "cell_type": "code",
   "execution_count": 153,
   "id": "163423b8-704d-4352-92e5-845f2bf84912",
   "metadata": {},
   "outputs": [
    {
     "data": {
      "text/html": [
       "<div>\n",
       "<style scoped>\n",
       "    .dataframe tbody tr th:only-of-type {\n",
       "        vertical-align: middle;\n",
       "    }\n",
       "\n",
       "    .dataframe tbody tr th {\n",
       "        vertical-align: top;\n",
       "    }\n",
       "\n",
       "    .dataframe thead th {\n",
       "        text-align: right;\n",
       "    }\n",
       "</style>\n",
       "<table border=\"1\" class=\"dataframe\">\n",
       "  <thead>\n",
       "    <tr style=\"text-align: right;\">\n",
       "      <th></th>\n",
       "      <th>created_on</th>\n",
       "      <th>name</th>\n",
       "      <th>comment</th>\n",
       "      <th>database_name</th>\n",
       "      <th>schema_name</th>\n",
       "      <th>module_name</th>\n",
       "      <th>is_default_version</th>\n",
       "      <th>functions</th>\n",
       "      <th>metadata</th>\n",
       "      <th>user_data</th>\n",
       "    </tr>\n",
       "  </thead>\n",
       "  <tbody>\n",
       "    <tr>\n",
       "      <th>0</th>\n",
       "      <td>2024-02-18 20:40:26.049000-08:00</td>\n",
       "      <td>V1</td>\n",
       "      <td>simple  XGB model to predict loan default</td>\n",
       "      <td>ML_HOL_DB</td>\n",
       "      <td>ML_HOL_SCHEMA</td>\n",
       "      <td>XGB_LOAN_DEFAULT_PREDICTION</td>\n",
       "      <td>true</td>\n",
       "      <td>[\"PREDICT_PROBA\",\"PREDICT\"]</td>\n",
       "      <td>{\"metrics\": {\"training_accuracy_score\": 0.9090...</td>\n",
       "      <td>{\"snowpark_ml_data\":{\"functions\":[{\"name\":\"PRE...</td>\n",
       "    </tr>\n",
       "    <tr>\n",
       "      <th>1</th>\n",
       "      <td>2024-02-18 20:49:46.047000-08:00</td>\n",
       "      <td>V2</td>\n",
       "      <td>simple  XGB model to predict loan default</td>\n",
       "      <td>ML_HOL_DB</td>\n",
       "      <td>ML_HOL_SCHEMA</td>\n",
       "      <td>XGB_LOAN_DEFAULT_PREDICTION</td>\n",
       "      <td>false</td>\n",
       "      <td>[\"PREDICT_PROBA\",\"PREDICT\"]</td>\n",
       "      <td>{\"metrics\": {\"training_accuracy_score\": 0.9077...</td>\n",
       "      <td>{\"snowpark_ml_data\":{\"functions\":[{\"name\":\"PRE...</td>\n",
       "    </tr>\n",
       "    <tr>\n",
       "      <th>2</th>\n",
       "      <td>2024-02-19 12:18:14.312000-08:00</td>\n",
       "      <td>V3</td>\n",
       "      <td>simple  XGB model to predict loan default</td>\n",
       "      <td>ML_HOL_DB</td>\n",
       "      <td>ML_HOL_SCHEMA</td>\n",
       "      <td>XGB_LOAN_DEFAULT_PREDICTION</td>\n",
       "      <td>false</td>\n",
       "      <td>[\"PREDICT_PROBA\",\"PREDICT\"]</td>\n",
       "      <td>{\"metrics\": {\"training_accuracy_score\": 0.9016...</td>\n",
       "      <td>{\"snowpark_ml_data\":{\"functions\":[{\"name\":\"PRE...</td>\n",
       "    </tr>\n",
       "  </tbody>\n",
       "</table>\n",
       "</div>"
      ],
      "text/plain": [
       "                        created_on name  \\\n",
       "0 2024-02-18 20:40:26.049000-08:00   V1   \n",
       "1 2024-02-18 20:49:46.047000-08:00   V2   \n",
       "2 2024-02-19 12:18:14.312000-08:00   V3   \n",
       "\n",
       "                                     comment database_name    schema_name  \\\n",
       "0  simple  XGB model to predict loan default     ML_HOL_DB  ML_HOL_SCHEMA   \n",
       "1  simple  XGB model to predict loan default     ML_HOL_DB  ML_HOL_SCHEMA   \n",
       "2  simple  XGB model to predict loan default     ML_HOL_DB  ML_HOL_SCHEMA   \n",
       "\n",
       "                   module_name is_default_version  \\\n",
       "0  XGB_LOAN_DEFAULT_PREDICTION               true   \n",
       "1  XGB_LOAN_DEFAULT_PREDICTION              false   \n",
       "2  XGB_LOAN_DEFAULT_PREDICTION              false   \n",
       "\n",
       "                     functions  \\\n",
       "0  [\"PREDICT_PROBA\",\"PREDICT\"]   \n",
       "1  [\"PREDICT_PROBA\",\"PREDICT\"]   \n",
       "2  [\"PREDICT_PROBA\",\"PREDICT\"]   \n",
       "\n",
       "                                            metadata  \\\n",
       "0  {\"metrics\": {\"training_accuracy_score\": 0.9090...   \n",
       "1  {\"metrics\": {\"training_accuracy_score\": 0.9077...   \n",
       "2  {\"metrics\": {\"training_accuracy_score\": 0.9016...   \n",
       "\n",
       "                                           user_data  \n",
       "0  {\"snowpark_ml_data\":{\"functions\":[{\"name\":\"PRE...  \n",
       "1  {\"snowpark_ml_data\":{\"functions\":[{\"name\":\"PRE...  \n",
       "2  {\"snowpark_ml_data\":{\"functions\":[{\"name\":\"PRE...  "
      ]
     },
     "execution_count": 153,
     "metadata": {},
     "output_type": "execute_result"
    }
   ],
   "source": [
    "rf_model=model_list[2]\n",
    "rf_model.show_versions()"
   ]
  },
  {
   "cell_type": "code",
   "execution_count": 154,
   "id": "23548edb-b7f5-4aed-9d7c-328683eaabdd",
   "metadata": {},
   "outputs": [
    {
     "name": "stdout",
     "output_type": "stream",
     "text": [
      "-----------------------------------\n",
      "|\"NOT_FULLY_PAID\"  |\"PREDICTION\"  |\n",
      "-----------------------------------\n",
      "|0.0               |0.0           |\n",
      "|0.0               |1.0           |\n",
      "|0.0               |0.0           |\n",
      "|0.0               |0.0           |\n",
      "|0.0               |0.0           |\n",
      "|0.0               |1.0           |\n",
      "|0.0               |0.0           |\n",
      "|0.0               |1.0           |\n",
      "|0.0               |0.0           |\n",
      "|0.0               |1.0           |\n",
      "-----------------------------------\n",
      "\n"
     ]
    }
   ],
   "source": [
    "# Load version 3 of the third model from the retrieved model list, run it to predict on the test dataset using the 'predict' function, \n",
    "# and then display the actual labels alongside the predictions for comparison.\n",
    "\n",
    "rf_mv1=model_list[2].version('V3')\n",
    "pred_df1=rf_mv1.run(test_df,function_name='predict')\n",
    "pred_df1['NOT_FULLY_PAID','PREDICTION'].show()"
   ]
  }
 ],
 "metadata": {
  "kernelspec": {
   "display_name": "Python 3 (ipykernel)",
   "language": "python",
   "name": "python3"
  },
  "language_info": {
   "codemirror_mode": {
    "name": "ipython",
    "version": 3
   },
   "file_extension": ".py",
   "mimetype": "text/x-python",
   "name": "python",
   "nbconvert_exporter": "python",
   "pygments_lexer": "ipython3",
   "version": "3.11.7"
  }
 },
 "nbformat": 4,
 "nbformat_minor": 5
}
